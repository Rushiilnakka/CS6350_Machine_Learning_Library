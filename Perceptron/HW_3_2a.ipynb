{
 "cells": [
  {
   "cell_type": "code",
   "execution_count": 2,
   "id": "5259eccd",
   "metadata": {},
   "outputs": [
    {
     "ename": "FileNotFoundError",
     "evalue": "dataset\bank-note\train.csv not found.",
     "output_type": "error",
     "traceback": [
      "\u001b[1;31m---------------------------------------------------------------------------\u001b[0m",
      "\u001b[1;31mFileNotFoundError\u001b[0m                         Traceback (most recent call last)",
      "Cell \u001b[1;32mIn[2], line 53\u001b[0m\n\u001b[0;32m     50\u001b[0m     \u001b[38;5;28mprint\u001b[39m(\u001b[38;5;124m\"\u001b[39m\u001b[38;5;124mAverage Prediction Error on Test Data:\u001b[39m\u001b[38;5;124m\"\u001b[39m, average_prediction_error)\n\u001b[0;32m     52\u001b[0m \u001b[38;5;28;01mif\u001b[39;00m \u001b[38;5;18m__name__\u001b[39m \u001b[38;5;241m==\u001b[39m \u001b[38;5;124m\"\u001b[39m\u001b[38;5;124m__main__\u001b[39m\u001b[38;5;124m\"\u001b[39m:\n\u001b[1;32m---> 53\u001b[0m     main()\n",
      "Cell \u001b[1;32mIn[2], line 35\u001b[0m, in \u001b[0;36mmain\u001b[1;34m()\u001b[0m\n\u001b[0;32m     33\u001b[0m \u001b[38;5;28;01mdef\u001b[39;00m \u001b[38;5;21mmain\u001b[39m():\n\u001b[0;32m     34\u001b[0m     \u001b[38;5;66;03m# Load and preprocess the training and test data\u001b[39;00m\n\u001b[1;32m---> 35\u001b[0m     X_train, y_train \u001b[38;5;241m=\u001b[39m load_and_preprocess_data(\u001b[38;5;124m\"\u001b[39m\u001b[38;5;124mdataset\u001b[39m\u001b[38;5;130;01m\\b\u001b[39;00m\u001b[38;5;124mank-note\u001b[39m\u001b[38;5;130;01m\\t\u001b[39;00m\u001b[38;5;124mrain.csv\u001b[39m\u001b[38;5;124m\"\u001b[39m)\n\u001b[0;32m     36\u001b[0m     X_test, y_test \u001b[38;5;241m=\u001b[39m load_and_preprocess_data(\u001b[38;5;124m\"\u001b[39m\u001b[38;5;124mdataset\u001b[39m\u001b[38;5;130;01m\\b\u001b[39;00m\u001b[38;5;124mank-note\u001b[39m\u001b[38;5;130;01m\\t\u001b[39;00m\u001b[38;5;124mest.csv\u001b[39m\u001b[38;5;124m\"\u001b[39m)\n\u001b[0;32m     38\u001b[0m     \u001b[38;5;66;03m# Set hyperparameters\u001b[39;00m\n",
      "Cell \u001b[1;32mIn[2], line 5\u001b[0m, in \u001b[0;36mload_and_preprocess_data\u001b[1;34m(file_path)\u001b[0m\n\u001b[0;32m      4\u001b[0m \u001b[38;5;28;01mdef\u001b[39;00m \u001b[38;5;21mload_and_preprocess_data\u001b[39m(file_path):\n\u001b[1;32m----> 5\u001b[0m     data \u001b[38;5;241m=\u001b[39m np\u001b[38;5;241m.\u001b[39mgenfromtxt(file_path, delimiter\u001b[38;5;241m=\u001b[39m\u001b[38;5;124m'\u001b[39m\u001b[38;5;124m,\u001b[39m\u001b[38;5;124m'\u001b[39m)\n\u001b[0;32m      6\u001b[0m     X \u001b[38;5;241m=\u001b[39m data[:, :\u001b[38;5;241m-\u001b[39m\u001b[38;5;241m1\u001b[39m]  \u001b[38;5;66;03m# Features\u001b[39;00m\n\u001b[0;32m      7\u001b[0m     y \u001b[38;5;241m=\u001b[39m data[:, \u001b[38;5;241m-\u001b[39m\u001b[38;5;241m1\u001b[39m]   \u001b[38;5;66;03m# Labels\u001b[39;00m\n",
      "File \u001b[1;32m~\\AppData\\Local\\anaconda3\\Lib\\site-packages\\numpy\\lib\\npyio.py:1977\u001b[0m, in \u001b[0;36mgenfromtxt\u001b[1;34m(fname, dtype, comments, delimiter, skip_header, skip_footer, converters, missing_values, filling_values, usecols, names, excludelist, deletechars, replace_space, autostrip, case_sensitive, defaultfmt, unpack, usemask, loose, invalid_raise, max_rows, encoding, ndmin, like)\u001b[0m\n\u001b[0;32m   1975\u001b[0m     fname \u001b[38;5;241m=\u001b[39m os_fspath(fname)\n\u001b[0;32m   1976\u001b[0m \u001b[38;5;28;01mif\u001b[39;00m \u001b[38;5;28misinstance\u001b[39m(fname, \u001b[38;5;28mstr\u001b[39m):\n\u001b[1;32m-> 1977\u001b[0m     fid \u001b[38;5;241m=\u001b[39m np\u001b[38;5;241m.\u001b[39mlib\u001b[38;5;241m.\u001b[39m_datasource\u001b[38;5;241m.\u001b[39mopen(fname, \u001b[38;5;124m'\u001b[39m\u001b[38;5;124mrt\u001b[39m\u001b[38;5;124m'\u001b[39m, encoding\u001b[38;5;241m=\u001b[39mencoding)\n\u001b[0;32m   1978\u001b[0m     fid_ctx \u001b[38;5;241m=\u001b[39m contextlib\u001b[38;5;241m.\u001b[39mclosing(fid)\n\u001b[0;32m   1979\u001b[0m \u001b[38;5;28;01melse\u001b[39;00m:\n",
      "File \u001b[1;32m~\\AppData\\Local\\anaconda3\\Lib\\site-packages\\numpy\\lib\\_datasource.py:193\u001b[0m, in \u001b[0;36mopen\u001b[1;34m(path, mode, destpath, encoding, newline)\u001b[0m\n\u001b[0;32m    156\u001b[0m \u001b[38;5;250m\u001b[39m\u001b[38;5;124;03m\"\"\"\u001b[39;00m\n\u001b[0;32m    157\u001b[0m \u001b[38;5;124;03mOpen `path` with `mode` and return the file object.\u001b[39;00m\n\u001b[0;32m    158\u001b[0m \n\u001b[1;32m   (...)\u001b[0m\n\u001b[0;32m    189\u001b[0m \n\u001b[0;32m    190\u001b[0m \u001b[38;5;124;03m\"\"\"\u001b[39;00m\n\u001b[0;32m    192\u001b[0m ds \u001b[38;5;241m=\u001b[39m DataSource(destpath)\n\u001b[1;32m--> 193\u001b[0m \u001b[38;5;28;01mreturn\u001b[39;00m ds\u001b[38;5;241m.\u001b[39mopen(path, mode, encoding\u001b[38;5;241m=\u001b[39mencoding, newline\u001b[38;5;241m=\u001b[39mnewline)\n",
      "File \u001b[1;32m~\\AppData\\Local\\anaconda3\\Lib\\site-packages\\numpy\\lib\\_datasource.py:533\u001b[0m, in \u001b[0;36mDataSource.open\u001b[1;34m(self, path, mode, encoding, newline)\u001b[0m\n\u001b[0;32m    530\u001b[0m     \u001b[38;5;28;01mreturn\u001b[39;00m _file_openers[ext](found, mode\u001b[38;5;241m=\u001b[39mmode,\n\u001b[0;32m    531\u001b[0m                               encoding\u001b[38;5;241m=\u001b[39mencoding, newline\u001b[38;5;241m=\u001b[39mnewline)\n\u001b[0;32m    532\u001b[0m \u001b[38;5;28;01melse\u001b[39;00m:\n\u001b[1;32m--> 533\u001b[0m     \u001b[38;5;28;01mraise\u001b[39;00m \u001b[38;5;167;01mFileNotFoundError\u001b[39;00m(\u001b[38;5;124mf\u001b[39m\u001b[38;5;124m\"\u001b[39m\u001b[38;5;132;01m{\u001b[39;00mpath\u001b[38;5;132;01m}\u001b[39;00m\u001b[38;5;124m not found.\u001b[39m\u001b[38;5;124m\"\u001b[39m)\n",
      "\u001b[1;31mFileNotFoundError\u001b[0m: dataset\bank-note\train.csv not found."
     ]
    }
   ],
   "source": [
    "import numpy as np\n",
    "\n",
    "# Load and preprocess the data\n",
    "def load_and_preprocess_data(file_path):\n",
    "    data = np.genfromtxt(file_path, delimiter=',')\n",
    "    X = data[:, :-1]  # Features\n",
    "    y = data[:, -1]   # Labels\n",
    "    return X, y\n",
    "\n",
    "# Initialize the weight vector\n",
    "def initialize_weight_vector(X):\n",
    "    return np.zeros(X.shape[1])\n",
    "\n",
    "# Train the Perceptron\n",
    "def train_perceptron(X_train, y_train, max_epochs, learning_rate):\n",
    "    w = initialize_weight_vector(X_train)\n",
    "    for epoch in range(max_epochs):\n",
    "        for i in range(len(X_train)):\n",
    "            if y_train[i] * np.dot(w, X_train[i]) <= 0:\n",
    "                w += learning_rate * y_train[i] * X_train[i]\n",
    "    return w\n",
    "\n",
    "# Test the Perceptron\n",
    "def test_perceptron(w, X_test, y_test):\n",
    "    errors = 0\n",
    "    for i in range(len(X_test)):\n",
    "        if y_test[i] * np.dot(w, X_test[i]) <= 0:\n",
    "            errors += 1\n",
    "    average_error = errors / len(X_test)\n",
    "    return average_error\n",
    "\n",
    "# Main function\n",
    "def main():\n",
    "    # Load and preprocess the training and test data\n",
    "    X_train, y_train = load_and_preprocess_data(\"dataset/bank-note/train.csv\")\n",
    "    X_test, y_test = load_and_preprocess_data(\"dataset/bank-note/test.csv\")\n",
    "\n",
    "    # Set hyperparameters\n",
    "    learning_rate = 0.1\n",
    "    max_epochs = 10\n",
    "\n",
    "    # Train the Perceptron\n",
    "    learned_weight_vector = train_perceptron(X_train, y_train, max_epochs, learning_rate)\n",
    "\n",
    "    # Test the Perceptron\n",
    "    average_prediction_error = test_perceptron(learned_weight_vector, X_test, y_test)\n",
    "\n",
    "    # Report results\n",
    "    print(\"Learned Weight Vector:\", learned_weight_vector)\n",
    "    print(\"Average Prediction Error on Test Data:\", average_prediction_error)\n",
    "\n",
    "if __name__ == \"__main__\":\n",
    "    main()\n"
   ]
  },
  {
   "cell_type": "code",
   "execution_count": null,
   "id": "bcd0453b",
   "metadata": {},
   "outputs": [],
   "source": []
  }
 ],
 "metadata": {
  "kernelspec": {
   "display_name": "Python 3 (ipykernel)",
   "language": "python",
   "name": "python3"
  },
  "language_info": {
   "codemirror_mode": {
    "name": "ipython",
    "version": 3
   },
   "file_extension": ".py",
   "mimetype": "text/x-python",
   "name": "python",
   "nbconvert_exporter": "python",
   "pygments_lexer": "ipython3",
   "version": "3.11.4"
  }
 },
 "nbformat": 4,
 "nbformat_minor": 5
}
