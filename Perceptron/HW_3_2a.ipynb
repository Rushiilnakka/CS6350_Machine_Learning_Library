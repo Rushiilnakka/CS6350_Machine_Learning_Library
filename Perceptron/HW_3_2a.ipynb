{
 "cells": [
  {
   "cell_type": "code",
   "execution_count": 1,
   "id": "5259eccd",
   "metadata": {},
   "outputs": [
    {
     "name": "stdout",
     "output_type": "stream",
     "text": [
      "Learned Weight Vector: [-1.88312856 -1.4068138  -1.7351032  -1.16960836]\n",
      "Average Prediction Error on Test Data: 0.658\n"
     ]
    }
   ],
   "source": [
    "import numpy as np\n",
    "\n",
    "# Load and preprocess the data\n",
    "def load_and_preprocess_data(file_path):\n",
    "    data = np.genfromtxt(file_path, delimiter=',')\n",
    "    X = data[:, :-1]  # Features\n",
    "    y = data[:, -1]   # Labels\n",
    "    return X, y\n",
    "\n",
    "# Initialize the weight vector\n",
    "def initialize_weight_vector(X):\n",
    "    return np.zeros(X.shape[1])\n",
    "\n",
    "# Train the Perceptron\n",
    "def train_perceptron(X_train, y_train, max_epochs, learning_rate):\n",
    "    w = initialize_weight_vector(X_train)\n",
    "    for epoch in range(max_epochs):\n",
    "        for i in range(len(X_train)):\n",
    "            if y_train[i] * np.dot(w, X_train[i]) <= 0:\n",
    "                w += learning_rate * y_train[i] * X_train[i]\n",
    "    return w\n",
    "\n",
    "# Test the Perceptron\n",
    "def test_perceptron(w, X_test, y_test):\n",
    "    errors = 0\n",
    "    for i in range(len(X_test)):\n",
    "        if y_test[i] * np.dot(w, X_test[i]) <= 0:\n",
    "            errors += 1\n",
    "    average_error = errors / len(X_test)\n",
    "    return average_error\n",
    "\n",
    "# Main function\n",
    "def main():\n",
    "    # Load and preprocess the training and test data\n",
    "    X_train, y_train = load_and_preprocess_data(\"dataset/bank-note/train.csv\")\n",
    "    X_test, y_test = load_and_preprocess_data(\"dataset/bank-note/test.csv\")\n",
    "\n",
    "    # Set hyperparameters\n",
    "    learning_rate = 0.1\n",
    "    max_epochs = 10\n",
    "\n",
    "    # Train the Perceptron\n",
    "    learned_weight_vector = train_perceptron(X_train, y_train, max_epochs, learning_rate)\n",
    "\n",
    "    # Test the Perceptron\n",
    "    average_prediction_error = test_perceptron(learned_weight_vector, X_test, y_test)\n",
    "\n",
    "    # Report results\n",
    "    print(\"Learned Weight Vector:\", learned_weight_vector)\n",
    "    print(\"Average Prediction Error on Test Data:\", average_prediction_error)\n",
    "\n",
    "if __name__ == \"__main__\":\n",
    "    main()\n"
   ]
  },
  {
   "cell_type": "code",
   "execution_count": null,
   "id": "bcd0453b",
   "metadata": {},
   "outputs": [],
   "source": []
  }
 ],
 "metadata": {
  "kernelspec": {
   "display_name": "Python 3 (ipykernel)",
   "language": "python",
   "name": "python3"
  },
  "language_info": {
   "codemirror_mode": {
    "name": "ipython",
    "version": 3
   },
   "file_extension": ".py",
   "mimetype": "text/x-python",
   "name": "python",
   "nbconvert_exporter": "python",
   "pygments_lexer": "ipython3",
   "version": "3.11.4"
  }
 },
 "nbformat": 4,
 "nbformat_minor": 5
}
