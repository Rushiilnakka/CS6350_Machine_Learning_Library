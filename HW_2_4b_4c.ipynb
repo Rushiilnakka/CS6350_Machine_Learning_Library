{
 "cells": [
  {
   "cell_type": "code",
   "execution_count": 1,
   "id": "7990b8cd",
   "metadata": {},
   "outputs": [],
   "source": [
    "import pandas as pd\n",
    "import numpy as np\n",
    "from collections import Counter\n",
    "import math\n",
    "from sklearn.metrics import accuracy_score"
   ]
  },
  {
   "cell_type": "code",
   "execution_count": 2,
   "id": "6f511382",
   "metadata": {},
   "outputs": [],
   "source": [
    "import matplotlib.pyplot as plt"
   ]
  },
  {
   "cell_type": "code",
   "execution_count": 8,
   "id": "8a18fa50",
   "metadata": {},
   "outputs": [],
   "source": [
    "train_df = pd.read_csv(\"C:\\\\Rushiil\\\\ML\\\\concrete\\\\train.csv\")\n",
    "X_train = train_df.drop('output', axis=1)\n",
    "y_train = train_df['output']\n",
    "\n",
    "test_df = pd.read_csv(\"C:\\\\Rushiil\\\\ML\\\\concrete\\\\test.csv\")\n",
    "X_test = test_df.drop('output', axis=1)\n",
    "y_test = test_df['output']"
   ]
  },
  {
   "cell_type": "code",
   "execution_count": 5,
   "id": "01a28569",
   "metadata": {},
   "outputs": [
    {
     "ename": "InvalidIndexError",
     "evalue": "(46, slice(None, None, None))",
     "output_type": "error",
     "traceback": [
      "\u001b[1;31m---------------------------------------------------------------------------\u001b[0m",
      "\u001b[1;31mTypeError\u001b[0m                                 Traceback (most recent call last)",
      "File \u001b[1;32m~\\AppData\\Local\\anaconda3\\Lib\\site-packages\\pandas\\core\\indexes\\base.py:3802\u001b[0m, in \u001b[0;36mIndex.get_loc\u001b[1;34m(self, key, method, tolerance)\u001b[0m\n\u001b[0;32m   3801\u001b[0m \u001b[38;5;28;01mtry\u001b[39;00m:\n\u001b[1;32m-> 3802\u001b[0m     \u001b[38;5;28;01mreturn\u001b[39;00m \u001b[38;5;28mself\u001b[39m\u001b[38;5;241m.\u001b[39m_engine\u001b[38;5;241m.\u001b[39mget_loc(casted_key)\n\u001b[0;32m   3803\u001b[0m \u001b[38;5;28;01mexcept\u001b[39;00m \u001b[38;5;167;01mKeyError\u001b[39;00m \u001b[38;5;28;01mas\u001b[39;00m err:\n",
      "File \u001b[1;32m~\\AppData\\Local\\anaconda3\\Lib\\site-packages\\pandas\\_libs\\index.pyx:138\u001b[0m, in \u001b[0;36mpandas._libs.index.IndexEngine.get_loc\u001b[1;34m()\u001b[0m\n",
      "File \u001b[1;32m~\\AppData\\Local\\anaconda3\\Lib\\site-packages\\pandas\\_libs\\index.pyx:144\u001b[0m, in \u001b[0;36mpandas._libs.index.IndexEngine.get_loc\u001b[1;34m()\u001b[0m\n",
      "\u001b[1;31mTypeError\u001b[0m: '(46, slice(None, None, None))' is an invalid key",
      "\nDuring handling of the above exception, another exception occurred:\n",
      "\u001b[1;31mInvalidIndexError\u001b[0m                         Traceback (most recent call last)",
      "Cell \u001b[1;32mIn[5], line 47\u001b[0m\n\u001b[0;32m     44\u001b[0m cost_values\u001b[38;5;241m.\u001b[39mappend(current_cost)\n\u001b[0;32m     46\u001b[0m \u001b[38;5;66;03m# Update weights using stochastic gradient descent\u001b[39;00m\n\u001b[1;32m---> 47\u001b[0m w \u001b[38;5;241m=\u001b[39m stochastic_gradient_descent(X_train, y_train, w, learning_rate)\n\u001b[0;32m     49\u001b[0m \u001b[38;5;66;03m# Uncomment below to adaptively adjust learning rate (optional)\u001b[39;00m\n\u001b[0;32m     50\u001b[0m \u001b[38;5;66;03m# learning_rate /= (update + 1)  # Adaptive learning rate\u001b[39;00m\n\u001b[0;32m     51\u001b[0m \n\u001b[0;32m     52\u001b[0m \u001b[38;5;66;03m# Check for convergence based on the cost function\u001b[39;00m\n\u001b[0;32m     53\u001b[0m \u001b[38;5;28;01mif\u001b[39;00m update \u001b[38;5;241m>\u001b[39m \u001b[38;5;241m0\u001b[39m \u001b[38;5;129;01mand\u001b[39;00m \u001b[38;5;28mabs\u001b[39m(cost_values[update] \u001b[38;5;241m-\u001b[39m cost_values[update \u001b[38;5;241m-\u001b[39m \u001b[38;5;241m1\u001b[39m]) \u001b[38;5;241m<\u001b[39m tolerance:\n",
      "Cell \u001b[1;32mIn[5], line 30\u001b[0m, in \u001b[0;36mstochastic_gradient_descent\u001b[1;34m(X, y, w, learning_rate)\u001b[0m\n\u001b[0;32m     28\u001b[0m np\u001b[38;5;241m.\u001b[39mrandom\u001b[38;5;241m.\u001b[39mshuffle(indices)  \u001b[38;5;66;03m# Randomly shuffle the indices\u001b[39;00m\n\u001b[0;32m     29\u001b[0m \u001b[38;5;28;01mfor\u001b[39;00m i \u001b[38;5;129;01min\u001b[39;00m indices:\n\u001b[1;32m---> 30\u001b[0m     xi \u001b[38;5;241m=\u001b[39m X[i, :]  \u001b[38;5;66;03m# Modify this line to properly index the features\u001b[39;00m\n\u001b[0;32m     31\u001b[0m     yi \u001b[38;5;241m=\u001b[39m y[i]\n\u001b[0;32m     32\u001b[0m     prediction \u001b[38;5;241m=\u001b[39m np\u001b[38;5;241m.\u001b[39mdot(xi, w)\n",
      "File \u001b[1;32m~\\AppData\\Local\\anaconda3\\Lib\\site-packages\\pandas\\core\\frame.py:3807\u001b[0m, in \u001b[0;36mDataFrame.__getitem__\u001b[1;34m(self, key)\u001b[0m\n\u001b[0;32m   3805\u001b[0m \u001b[38;5;28;01mif\u001b[39;00m \u001b[38;5;28mself\u001b[39m\u001b[38;5;241m.\u001b[39mcolumns\u001b[38;5;241m.\u001b[39mnlevels \u001b[38;5;241m>\u001b[39m \u001b[38;5;241m1\u001b[39m:\n\u001b[0;32m   3806\u001b[0m     \u001b[38;5;28;01mreturn\u001b[39;00m \u001b[38;5;28mself\u001b[39m\u001b[38;5;241m.\u001b[39m_getitem_multilevel(key)\n\u001b[1;32m-> 3807\u001b[0m indexer \u001b[38;5;241m=\u001b[39m \u001b[38;5;28mself\u001b[39m\u001b[38;5;241m.\u001b[39mcolumns\u001b[38;5;241m.\u001b[39mget_loc(key)\n\u001b[0;32m   3808\u001b[0m \u001b[38;5;28;01mif\u001b[39;00m is_integer(indexer):\n\u001b[0;32m   3809\u001b[0m     indexer \u001b[38;5;241m=\u001b[39m [indexer]\n",
      "File \u001b[1;32m~\\AppData\\Local\\anaconda3\\Lib\\site-packages\\pandas\\core\\indexes\\base.py:3809\u001b[0m, in \u001b[0;36mIndex.get_loc\u001b[1;34m(self, key, method, tolerance)\u001b[0m\n\u001b[0;32m   3804\u001b[0m         \u001b[38;5;28;01mraise\u001b[39;00m \u001b[38;5;167;01mKeyError\u001b[39;00m(key) \u001b[38;5;28;01mfrom\u001b[39;00m \u001b[38;5;21;01merr\u001b[39;00m\n\u001b[0;32m   3805\u001b[0m     \u001b[38;5;28;01mexcept\u001b[39;00m \u001b[38;5;167;01mTypeError\u001b[39;00m:\n\u001b[0;32m   3806\u001b[0m         \u001b[38;5;66;03m# If we have a listlike key, _check_indexing_error will raise\u001b[39;00m\n\u001b[0;32m   3807\u001b[0m         \u001b[38;5;66;03m#  InvalidIndexError. Otherwise we fall through and re-raise\u001b[39;00m\n\u001b[0;32m   3808\u001b[0m         \u001b[38;5;66;03m#  the TypeError.\u001b[39;00m\n\u001b[1;32m-> 3809\u001b[0m         \u001b[38;5;28mself\u001b[39m\u001b[38;5;241m.\u001b[39m_check_indexing_error(key)\n\u001b[0;32m   3810\u001b[0m         \u001b[38;5;28;01mraise\u001b[39;00m\n\u001b[0;32m   3812\u001b[0m \u001b[38;5;66;03m# GH#42269\u001b[39;00m\n",
      "File \u001b[1;32m~\\AppData\\Local\\anaconda3\\Lib\\site-packages\\pandas\\core\\indexes\\base.py:5925\u001b[0m, in \u001b[0;36mIndex._check_indexing_error\u001b[1;34m(self, key)\u001b[0m\n\u001b[0;32m   5921\u001b[0m \u001b[38;5;28;01mdef\u001b[39;00m \u001b[38;5;21m_check_indexing_error\u001b[39m(\u001b[38;5;28mself\u001b[39m, key):\n\u001b[0;32m   5922\u001b[0m     \u001b[38;5;28;01mif\u001b[39;00m \u001b[38;5;129;01mnot\u001b[39;00m is_scalar(key):\n\u001b[0;32m   5923\u001b[0m         \u001b[38;5;66;03m# if key is not a scalar, directly raise an error (the code below\u001b[39;00m\n\u001b[0;32m   5924\u001b[0m         \u001b[38;5;66;03m# would convert to numpy arrays and raise later any way) - GH29926\u001b[39;00m\n\u001b[1;32m-> 5925\u001b[0m         \u001b[38;5;28;01mraise\u001b[39;00m InvalidIndexError(key)\n",
      "\u001b[1;31mInvalidIndexError\u001b[0m: (46, slice(None, None, None))"
     ]
    }
   ],
   "source": [
    "def normalize_features(X):\n",
    "    mean = np.mean(X, axis=0)\n",
    "    std = np.std(X, axis=0)\n",
    "    X_normalized = (X - mean) / std\n",
    "    return X_normalized\n",
    "\n",
    "X_train = normalize_features(X_train)\n",
    "X_test = normalize_features(X_test)\n",
    "\n",
    "# Initialize variables\n",
    "num_samples, num_features = X_train.shape\n",
    "w = np.zeros(num_features)  # Initialize weights to zeros\n",
    "tolerance = 1e-6  # Tolerance for convergence\n",
    "max_updates = 1000  # Maximum number of updates (adjust as needed)\n",
    "cost_values = []  # List to store cost values\n",
    "\n",
    "# Define the cost function (Mean Squared Error)\n",
    "def calculate_cost(X, y, w):\n",
    "    m = len(y)\n",
    "    predictions = np.dot(X, w)\n",
    "    cost = (1 / (2 * m)) * np.sum((predictions - y) ** 2)\n",
    "    return cost\n",
    "\n",
    "# Implement Stochastic Gradient Descent\n",
    "def stochastic_gradient_descent(X, y, w, learning_rate):\n",
    "    m = len(y)\n",
    "    indices = np.arange(m)\n",
    "    np.random.shuffle(indices)  # Randomly shuffle the indices\n",
    "    for i in indices:\n",
    "        xi = X[i, :]  # Modify this line to properly index the features\n",
    "        yi = y[i]\n",
    "        prediction = np.dot(xi, w)\n",
    "        error = prediction - yi\n",
    "        gradient = xi * error\n",
    "        w -= learning_rate * gradient  # Update weights using stochastic gradient\n",
    "    return w\n",
    "\n",
    "# Stochastic Gradient Descent to find optimal weights\n",
    "learning_rate = 0.01  # Initial learning rate (adjust as needed)\n",
    "\n",
    "for update in range(max_updates):\n",
    "    # Calculate current cost\n",
    "    current_cost = calculate_cost(X_train, y_train, w)\n",
    "    cost_values.append(current_cost)\n",
    "    \n",
    "    # Update weights using stochastic gradient descent\n",
    "    w = stochastic_gradient_descent(X_train, y_train, w, learning_rate)\n",
    "    \n",
    "    # Uncomment below to adaptively adjust learning rate (optional)\n",
    "    # learning_rate /= (update + 1)  # Adaptive learning rate\n",
    "    \n",
    "    # Check for convergence based on the cost function\n",
    "    if update > 0 and abs(cost_values[update] - cost_values[update - 1]) < tolerance:\n",
    "        break\n",
    "\n",
    "# Calculate cost on test data using the learned weight vector\n",
    "test_cost = calculate_cost(X_test, y_test, w)\n",
    "\n",
    "# Print learned weight vector and learning rate\n",
    "print(\"Learned weight vector:\", w)\n",
    "print(\"Learning rate:\", learning_rate)\n",
    "print(\"Cost on test data:\", test_cost)\n",
    "\n",
    "# Plot cost function vs. updates\n",
    "plt.plot(cost_values)\n",
    "plt.xlabel('Number of Updates')\n",
    "plt.ylabel('Cost Function')\n",
    "plt.title('Cost Function vs. Number of Updates')\n",
    "plt.show()"
   ]
  },
  {
   "cell_type": "code",
   "execution_count": 13,
   "id": "e88d9d98",
   "metadata": {},
   "outputs": [
    {
     "name": "stdout",
     "output_type": "stream",
     "text": [
      "Learned weight vector: [0.2888451  0.1344153  0.12386719 0.80013596 0.0165658  0.70852645\n",
      " 0.39477583]\n",
      "Learning rate: 0.01\n",
      "Cost on test data: 0.4277290261073662\n"
     ]
    },
    {
     "data": {
      "image/png": "[encoded data removed]",
      "text/plain": [
       "<Figure size 640x480 with 1 Axes>"
      ]
     },
     "metadata": {},
     "output_type": "display_data"
    }
   ],
   "source": [
    "import numpy as np\n",
    "import pandas as pd\n",
    "import matplotlib.pyplot as plt\n",
    "\n",
    "# Load and preprocess the data\n",
    "# TODO: Load and preprocess the data (training and testing sets)\n",
    "# You'll need to read the CSV files and split them into features (X) and target variable (y).\n",
    "\n",
    "# Sample loading and preprocessing (replace with your actual data)\n",
    "# Assuming X_train, y_train, X_test, y_test are loaded appropriately.\n",
    "\n",
    "# Sample data (replace with your actual data)\n",
    "# X_train = ...\n",
    "# y_train = ...\n",
    "# X_test = ...\n",
    "# y_test = ...\n",
    "\n",
    "# Normalize the features\n",
    "def normalize_features(X):\n",
    "    mean = np.mean(X, axis=0)\n",
    "    std = np.std(X, axis=0)\n",
    "    X_normalized = (X - mean) / std\n",
    "    return X_normalized\n",
    "\n",
    "X_train = normalize_features(X_train)\n",
    "X_test = normalize_features(X_test)\n",
    "\n",
    "# Initialize variables\n",
    "num_samples, num_features = X_train.shape\n",
    "w = np.zeros(num_features)  # Initialize weights to zeros\n",
    "tolerance = 1e-6  # Tolerance for convergence\n",
    "max_updates = 1000  # Maximum number of updates (adjust as needed)\n",
    "cost_values = []  # List to store cost values\n",
    "\n",
    "# Define the cost function (Mean Squared Error)\n",
    "def calculate_cost(X, y, w):\n",
    "    m = len(y)\n",
    "    predictions = np.dot(X, w)\n",
    "    cost = (1 / (2 * m)) * np.sum((predictions - y) ** 2)\n",
    "    return cost\n",
    "\n",
    "# Implement Stochastic Gradient Descent\n",
    "def stochastic_gradient_descent(X, y, w, learning_rate):\n",
    "    m = len(y)\n",
    "    indices = np.arange(m)\n",
    "    np.random.shuffle(indices)  # Randomly shuffle the indices\n",
    "    for i in indices:\n",
    "        xi = X.iloc[i].values  # Properly index the features\n",
    "        yi = y.iloc[i]\n",
    "        prediction = np.dot(xi, w)\n",
    "        error = prediction - yi\n",
    "        gradient = xi * error\n",
    "        w -= learning_rate * gradient  # Update weights using stochastic gradient\n",
    "    return w\n",
    "\n",
    "# Convert y_train and y_test to Pandas Series for proper indexing\n",
    "y_train = pd.Series(y_train)\n",
    "y_test = pd.Series(y_test)\n",
    "\n",
    "# Stochastic Gradient Descent to find optimal weights\n",
    "learning_rate = 0.01  # Initial learning rate (adjust as needed)\n",
    "\n",
    "for update in range(max_updates):\n",
    "    # Calculate current cost\n",
    "    current_cost = calculate_cost(X_train, y_train, w)\n",
    "    cost_values.append(current_cost)\n",
    "    \n",
    "    # Update weights using stochastic gradient descent\n",
    "    w = stochastic_gradient_descent(X_train, y_train, w, learning_rate)\n",
    "    \n",
    "    # Uncomment below to adaptively adjust learning rate (optional)\n",
    "    # learning_rate /= (update + 1)  # Adaptive learning rate\n",
    "    \n",
    "    # Check for convergence based on the cost function\n",
    "    if update > 0 and abs(cost_values[update] - cost_values[update - 1]) < tolerance:\n",
    "        break\n",
    "\n",
    "# Calculate cost on test data using the learned weight vector\n",
    "test_cost = calculate_cost(X_test, y_test, w)\n",
    "\n",
    "# Print learned weight vector and learning rate\n",
    "print(\"Learned weight vector:\", w)\n",
    "print(\"Learning rate:\", learning_rate)\n",
    "print(\"Cost on test data:\", test_cost)\n",
    "\n",
    "# Plot cost function vs. updates\n",
    "plt.plot(cost_values)\n",
    "plt.xlabel('Number of Updates')\n",
    "plt.ylabel('Cost Function')\n",
    "plt.title('Cost Function vs. Number of Updates')\n",
    "plt.show()\n"
   ]
  },
  {
   "cell_type": "code",
   "execution_count": 14,
   "id": "a1a17c6a",
   "metadata": {},
   "outputs": [
    {
     "name": "stdout",
     "output_type": "stream",
     "text": [
      "Optimal weight vector (analytical): [-0.00557469  0.86983813  0.78109748  0.86449324  1.2792889   0.11558646\n",
      "  1.56826654  1.0888816 ]\n"
     ]
    }
   ],
   "source": [
    "# Add a column of ones for the bias term\n",
    "X_train_with_bias = np.column_stack((np.ones(len(X_train)), X_train))\n",
    "\n",
    "# Calculate the optimal weight vector using the normal equation\n",
    "w_optimal = np.linalg.inv(X_train_with_bias.T @ X_train_with_bias) @ X_train_with_bias.T @ y_train\n",
    "\n",
    "print(\"Optimal weight vector (analytical):\", w_optimal)\n"
   ]
  },
  {
   "cell_type": "code",
   "execution_count": null,
   "id": "6c7ccedc",
   "metadata": {},
   "outputs": [],
   "source": []
  }
 ],
 "metadata": {
  "kernelspec": {
   "display_name": "Python 3 (ipykernel)",
   "language": "python",
   "name": "python3"
  },
  "language_info": {
   "codemirror_mode": {
    "name": "ipython",
    "version": 3
   },
   "file_extension": ".py",
   "mimetype": "text/x-python",
   "name": "python",
   "nbconvert_exporter": "python",
   "pygments_lexer": "ipython3",
   "version": "3.11.4"
  }
 },
 "nbformat": 4,
 "nbformat_minor": 5
}
